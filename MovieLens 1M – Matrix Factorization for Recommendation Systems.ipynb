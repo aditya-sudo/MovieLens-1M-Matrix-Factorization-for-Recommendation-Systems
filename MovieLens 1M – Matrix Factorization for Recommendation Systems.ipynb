{
  "cells": [
    {
      "cell_type": "markdown",
      "metadata": {
        "id": "L7_m9-KGs0Y9"
      },
      "source": [
        "# Part 1. Matrix Factorization (70 points total)\n",
        "\n",
        "For this part, we will:\n",
        "\n",
        "* load and process the MovieLens 1M dataset,\n",
        "* build a matrix factorization model,\n",
        "* evaluate the model."
      ]
    },
    {
      "cell_type": "markdown",
      "metadata": {
        "id": "l8AwmJeSs0Y9"
      },
      "source": [
        "To start out, we need to prepare the data. We will use the MovieLens 1M data from https://grouplens.org/datasets/movielens/1m/ in this homework. Lucky for you, we are providing the file containing the ratings -- ratings.dat  -- so all you need to do is loading the ratings.dat file in the notebook as a DataFrame variable using the Pandas library. The code to do this has been provided in the next cell, but you need to run it. The DataFrame variable is named as 'data_df'. The code names the column of movie id as 'MovieID', names the column of user id as 'UserID', names the column of rating as 'Rating', and the column of timestamp as 'Timestamp'. After this, the first 5 rows of data_df are printed out by DataFrame.head().\n",
        "\n",
        "Note that you should install the pandas library before you use it. For more information about Pandas, here is a quick introduction: https://pandas.pydata.org/pandas-docs/stable/user_guide/10min.html."
      ]
    },
    {
      "cell_type": "code",
      "execution_count": 3,
      "metadata": {
        "colab": {
          "base_uri": "https://localhost:8080/",
          "height": 206
        },
        "id": "pasp28r4s0Y-",
        "outputId": "b9af3a74-0ba6-4e4e-8169-92e050aec2e8"
      },
      "outputs": [
        {
          "data": {
            "application/vnd.google.colaboratory.intrinsic+json": {
              "type": "dataframe",
              "variable_name": "data_df"
            },
            "text/html": [
              "\n",
              "  <div id=\"df-0d8433fc-5026-415a-b5e5-826e4fc9048a\" class=\"colab-df-container\">\n",
              "    <div>\n",
              "<style scoped>\n",
              "    .dataframe tbody tr th:only-of-type {\n",
              "        vertical-align: middle;\n",
              "    }\n",
              "\n",
              "    .dataframe tbody tr th {\n",
              "        vertical-align: top;\n",
              "    }\n",
              "\n",
              "    .dataframe thead th {\n",
              "        text-align: right;\n",
              "    }\n",
              "</style>\n",
              "<table border=\"1\" class=\"dataframe\">\n",
              "  <thead>\n",
              "    <tr style=\"text-align: right;\">\n",
              "      <th></th>\n",
              "      <th>UserID</th>\n",
              "      <th>MovieID</th>\n",
              "      <th>Rating</th>\n",
              "      <th>Timestamp</th>\n",
              "    </tr>\n",
              "  </thead>\n",
              "  <tbody>\n",
              "    <tr>\n",
              "      <th>0</th>\n",
              "      <td>1</td>\n",
              "      <td>1193</td>\n",
              "      <td>5</td>\n",
              "      <td>978300760</td>\n",
              "    </tr>\n",
              "    <tr>\n",
              "      <th>1</th>\n",
              "      <td>1</td>\n",
              "      <td>661</td>\n",
              "      <td>3</td>\n",
              "      <td>978302109</td>\n",
              "    </tr>\n",
              "    <tr>\n",
              "      <th>2</th>\n",
              "      <td>1</td>\n",
              "      <td>914</td>\n",
              "      <td>3</td>\n",
              "      <td>978301968</td>\n",
              "    </tr>\n",
              "    <tr>\n",
              "      <th>3</th>\n",
              "      <td>1</td>\n",
              "      <td>3408</td>\n",
              "      <td>4</td>\n",
              "      <td>978300275</td>\n",
              "    </tr>\n",
              "    <tr>\n",
              "      <th>4</th>\n",
              "      <td>1</td>\n",
              "      <td>2355</td>\n",
              "      <td>5</td>\n",
              "      <td>978824291</td>\n",
              "    </tr>\n",
              "  </tbody>\n",
              "</table>\n",
              "</div>\n",
              "    <div class=\"colab-df-buttons\">\n",
              "\n",
              "  <div class=\"colab-df-container\">\n",
              "    <button class=\"colab-df-convert\" onclick=\"convertToInteractive('df-0d8433fc-5026-415a-b5e5-826e4fc9048a')\"\n",
              "            title=\"Convert this dataframe to an interactive table.\"\n",
              "            style=\"display:none;\">\n",
              "\n",
              "  <svg xmlns=\"http://www.w3.org/2000/svg\" height=\"24px\" viewBox=\"0 -960 960 960\">\n",
              "    <path d=\"M120-120v-720h720v720H120Zm60-500h600v-160H180v160Zm220 220h160v-160H400v160Zm0 220h160v-160H400v160ZM180-400h160v-160H180v160Zm440 0h160v-160H620v160ZM180-180h160v-160H180v160Zm440 0h160v-160H620v160Z\"/>\n",
              "  </svg>\n",
              "    </button>\n",
              "\n",
              "  <style>\n",
              "    .colab-df-container {\n",
              "      display:flex;\n",
              "      gap: 12px;\n",
              "    }\n",
              "\n",
              "    .colab-df-convert {\n",
              "      background-color: #E8F0FE;\n",
              "      border: none;\n",
              "      border-radius: 50%;\n",
              "      cursor: pointer;\n",
              "      display: none;\n",
              "      fill: #1967D2;\n",
              "      height: 32px;\n",
              "      padding: 0 0 0 0;\n",
              "      width: 32px;\n",
              "    }\n",
              "\n",
              "    .colab-df-convert:hover {\n",
              "      background-color: #E2EBFA;\n",
              "      box-shadow: 0px 1px 2px rgba(60, 64, 67, 0.3), 0px 1px 3px 1px rgba(60, 64, 67, 0.15);\n",
              "      fill: #174EA6;\n",
              "    }\n",
              "\n",
              "    .colab-df-buttons div {\n",
              "      margin-bottom: 4px;\n",
              "    }\n",
              "\n",
              "    [theme=dark] .colab-df-convert {\n",
              "      background-color: #3B4455;\n",
              "      fill: #D2E3FC;\n",
              "    }\n",
              "\n",
              "    [theme=dark] .colab-df-convert:hover {\n",
              "      background-color: #434B5C;\n",
              "      box-shadow: 0px 1px 3px 1px rgba(0, 0, 0, 0.15);\n",
              "      filter: drop-shadow(0px 1px 2px rgba(0, 0, 0, 0.3));\n",
              "      fill: #FFFFFF;\n",
              "    }\n",
              "  </style>\n",
              "\n",
              "    <script>\n",
              "      const buttonEl =\n",
              "        document.querySelector('#df-0d8433fc-5026-415a-b5e5-826e4fc9048a button.colab-df-convert');\n",
              "      buttonEl.style.display =\n",
              "        google.colab.kernel.accessAllowed ? 'block' : 'none';\n",
              "\n",
              "      async function convertToInteractive(key) {\n",
              "        const element = document.querySelector('#df-0d8433fc-5026-415a-b5e5-826e4fc9048a');\n",
              "        const dataTable =\n",
              "          await google.colab.kernel.invokeFunction('convertToInteractive',\n",
              "                                                    [key], {});\n",
              "        if (!dataTable) return;\n",
              "\n",
              "        const docLinkHtml = 'Like what you see? Visit the ' +\n",
              "          '<a target=\"_blank\" href=https://colab.research.google.com/notebooks/data_table.ipynb>data table notebook</a>'\n",
              "          + ' to learn more about interactive tables.';\n",
              "        element.innerHTML = '';\n",
              "        dataTable['output_type'] = 'display_data';\n",
              "        await google.colab.output.renderOutput(dataTable, element);\n",
              "        const docLink = document.createElement('div');\n",
              "        docLink.innerHTML = docLinkHtml;\n",
              "        element.appendChild(docLink);\n",
              "      }\n",
              "    </script>\n",
              "  </div>\n",
              "\n",
              "\n",
              "<div id=\"df-7475b1d0-4d3f-4fc6-a26e-3c58321e0330\">\n",
              "  <button class=\"colab-df-quickchart\" onclick=\"quickchart('df-7475b1d0-4d3f-4fc6-a26e-3c58321e0330')\"\n",
              "            title=\"Suggest charts\"\n",
              "            style=\"display:none;\">\n",
              "\n",
              "<svg xmlns=\"http://www.w3.org/2000/svg\" height=\"24px\"viewBox=\"0 0 24 24\"\n",
              "     width=\"24px\">\n",
              "    <g>\n",
              "        <path d=\"M19 3H5c-1.1 0-2 .9-2 2v14c0 1.1.9 2 2 2h14c1.1 0 2-.9 2-2V5c0-1.1-.9-2-2-2zM9 17H7v-7h2v7zm4 0h-2V7h2v10zm4 0h-2v-4h2v4z\"/>\n",
              "    </g>\n",
              "</svg>\n",
              "  </button>\n",
              "\n",
              "<style>\n",
              "  .colab-df-quickchart {\n",
              "      --bg-color: #E8F0FE;\n",
              "      --fill-color: #1967D2;\n",
              "      --hover-bg-color: #E2EBFA;\n",
              "      --hover-fill-color: #174EA6;\n",
              "      --disabled-fill-color: #AAA;\n",
              "      --disabled-bg-color: #DDD;\n",
              "  }\n",
              "\n",
              "  [theme=dark] .colab-df-quickchart {\n",
              "      --bg-color: #3B4455;\n",
              "      --fill-color: #D2E3FC;\n",
              "      --hover-bg-color: #434B5C;\n",
              "      --hover-fill-color: #FFFFFF;\n",
              "      --disabled-bg-color: #3B4455;\n",
              "      --disabled-fill-color: #666;\n",
              "  }\n",
              "\n",
              "  .colab-df-quickchart {\n",
              "    background-color: var(--bg-color);\n",
              "    border: none;\n",
              "    border-radius: 50%;\n",
              "    cursor: pointer;\n",
              "    display: none;\n",
              "    fill: var(--fill-color);\n",
              "    height: 32px;\n",
              "    padding: 0;\n",
              "    width: 32px;\n",
              "  }\n",
              "\n",
              "  .colab-df-quickchart:hover {\n",
              "    background-color: var(--hover-bg-color);\n",
              "    box-shadow: 0 1px 2px rgba(60, 64, 67, 0.3), 0 1px 3px 1px rgba(60, 64, 67, 0.15);\n",
              "    fill: var(--button-hover-fill-color);\n",
              "  }\n",
              "\n",
              "  .colab-df-quickchart-complete:disabled,\n",
              "  .colab-df-quickchart-complete:disabled:hover {\n",
              "    background-color: var(--disabled-bg-color);\n",
              "    fill: var(--disabled-fill-color);\n",
              "    box-shadow: none;\n",
              "  }\n",
              "\n",
              "  .colab-df-spinner {\n",
              "    border: 2px solid var(--fill-color);\n",
              "    border-color: transparent;\n",
              "    border-bottom-color: var(--fill-color);\n",
              "    animation:\n",
              "      spin 1s steps(1) infinite;\n",
              "  }\n",
              "\n",
              "  @keyframes spin {\n",
              "    0% {\n",
              "      border-color: transparent;\n",
              "      border-bottom-color: var(--fill-color);\n",
              "      border-left-color: var(--fill-color);\n",
              "    }\n",
              "    20% {\n",
              "      border-color: transparent;\n",
              "      border-left-color: var(--fill-color);\n",
              "      border-top-color: var(--fill-color);\n",
              "    }\n",
              "    30% {\n",
              "      border-color: transparent;\n",
              "      border-left-color: var(--fill-color);\n",
              "      border-top-color: var(--fill-color);\n",
              "      border-right-color: var(--fill-color);\n",
              "    }\n",
              "    40% {\n",
              "      border-color: transparent;\n",
              "      border-right-color: var(--fill-color);\n",
              "      border-top-color: var(--fill-color);\n",
              "    }\n",
              "    60% {\n",
              "      border-color: transparent;\n",
              "      border-right-color: var(--fill-color);\n",
              "    }\n",
              "    80% {\n",
              "      border-color: transparent;\n",
              "      border-right-color: var(--fill-color);\n",
              "      border-bottom-color: var(--fill-color);\n",
              "    }\n",
              "    90% {\n",
              "      border-color: transparent;\n",
              "      border-bottom-color: var(--fill-color);\n",
              "    }\n",
              "  }\n",
              "</style>\n",
              "\n",
              "  <script>\n",
              "    async function quickchart(key) {\n",
              "      const quickchartButtonEl =\n",
              "        document.querySelector('#' + key + ' button');\n",
              "      quickchartButtonEl.disabled = true;  // To prevent multiple clicks.\n",
              "      quickchartButtonEl.classList.add('colab-df-spinner');\n",
              "      try {\n",
              "        const charts = await google.colab.kernel.invokeFunction(\n",
              "            'suggestCharts', [key], {});\n",
              "      } catch (error) {\n",
              "        console.error('Error during call to suggestCharts:', error);\n",
              "      }\n",
              "      quickchartButtonEl.classList.remove('colab-df-spinner');\n",
              "      quickchartButtonEl.classList.add('colab-df-quickchart-complete');\n",
              "    }\n",
              "    (() => {\n",
              "      let quickchartButtonEl =\n",
              "        document.querySelector('#df-7475b1d0-4d3f-4fc6-a26e-3c58321e0330 button');\n",
              "      quickchartButtonEl.style.display =\n",
              "        google.colab.kernel.accessAllowed ? 'block' : 'none';\n",
              "    })();\n",
              "  </script>\n",
              "</div>\n",
              "\n",
              "    </div>\n",
              "  </div>\n"
            ],
            "text/plain": [
              "   UserID  MovieID  Rating  Timestamp\n",
              "0       1     1193       5  978300760\n",
              "1       1      661       3  978302109\n",
              "2       1      914       3  978301968\n",
              "3       1     3408       4  978300275\n",
              "4       1     2355       5  978824291"
            ]
          },
          "execution_count": 3,
          "metadata": {},
          "output_type": "execute_result"
        }
      ],
      "source": [
        "import pandas as pd\n",
        "import numpy as np\n",
        "\n",
        "data_df = pd.read_csv('./ratings.dat', sep='::',\n",
        "                      names=[\"UserID\", \"MovieID\", \"Rating\", \"Timestamp\"],\n",
        "                      engine='python')\n",
        "data_df.head()"
      ]
    },
    {
      "cell_type": "markdown",
      "metadata": {
        "id": "6NYPHynls0Y_"
      },
      "source": [
        "Now let's find some simple statistics for this dataset. In the next cell, please count and print how many unique users, unique movies, and how many ratings there are in this dataset.\n",
        "\n",
        "**Hint: You may need to use the function pandas.Series.unique(), as introduced in https://pandas.pydata.org/docs/reference/api/pandas.Series.unique.html.**"
      ]
    },
    {
      "cell_type": "code",
      "execution_count": 4,
      "metadata": {
        "colab": {
          "base_uri": "https://localhost:8080/"
        },
        "id": "3HmT4OiMs0Y_",
        "outputId": "09cd16a5-4613-4cd0-8904-edc05c5ae8f2"
      },
      "outputs": [
        {
          "name": "stdout",
          "output_type": "stream",
          "text": [
            "dataset: \n",
            "UserID  MovieID  Rating  Timestamp \n",
            "1       1        5       978824268     1\n",
            "2172    296      4       974612133     1\n",
            "        260      4       974610833     1\n",
            "        265      4       974667560     1\n",
            "        269      3       1015105761    1\n",
            "                                      ..\n",
            "1150    3075     3       974870761     1\n",
            "        3074     2       975197265     1\n",
            "        3072     4       974876383     1\n",
            "        3070     3       975192922     1\n",
            "3423    3948     4       981879060     1\n",
            "Name: count, Length: 557248, dtype: int64\n",
            "*************************\n",
            "Col UserID unique vale : 3423\n",
            "Col MovieID unique vale : 3629\n",
            "Col Rating unique vale : 5\n",
            "Col Timestamp unique vale : 252583\n",
            "ratings there are in this dataset. :  557248\n"
          ]
        }
      ],
      "source": [
        "# count and print how many unique users, unique movies, and ratings in this dataset\n",
        "# Your Code Here...\n",
        "print(\"dataset: \")\n",
        "print(data_df.value_counts())\n",
        "\n",
        "print(\"*************************\")\n",
        "for col in data_df:\n",
        "    print(\"Col\", col,\"unique vale :\",len(pd.unique(data_df[col].unique())))\n",
        "\n",
        "print(\"ratings there are in this dataset. : \", len(data_df[\"Rating\"]))"
      ]
    },
    {
      "cell_type": "markdown",
      "metadata": {
        "id": "g3OdqGmas0Y_"
      },
      "source": [
        "Because in Python, the index for a list starts from 0, it is more convenient if we have the ids of users and movies start from 0 as well. Moreover, we also need to make sure the UserID and MovieID are continuous, so in the next cell, we reindex UserID and MovieID. The code is already provided, but you still need to run it. (It may take a few minutes to run it.)"
      ]
    },
    {
      "cell_type": "code",
      "execution_count": 5,
      "metadata": {
        "colab": {
          "base_uri": "https://localhost:8080/",
          "height": 206
        },
        "id": "B4FVkA1Ls0Y_",
        "outputId": "9e07dc44-bcd5-4add-8f22-e81fab2b2f4a"
      },
      "outputs": [
        {
          "data": {
            "application/vnd.google.colaboratory.intrinsic+json": {
              "type": "dataframe",
              "variable_name": "data_df"
            },
            "text/html": [
              "\n",
              "  <div id=\"df-cd05a0b8-f70f-433f-81f0-a58a65ec2825\" class=\"colab-df-container\">\n",
              "    <div>\n",
              "<style scoped>\n",
              "    .dataframe tbody tr th:only-of-type {\n",
              "        vertical-align: middle;\n",
              "    }\n",
              "\n",
              "    .dataframe tbody tr th {\n",
              "        vertical-align: top;\n",
              "    }\n",
              "\n",
              "    .dataframe thead th {\n",
              "        text-align: right;\n",
              "    }\n",
              "</style>\n",
              "<table border=\"1\" class=\"dataframe\">\n",
              "  <thead>\n",
              "    <tr style=\"text-align: right;\">\n",
              "      <th></th>\n",
              "      <th>UserID</th>\n",
              "      <th>MovieID</th>\n",
              "      <th>Rating</th>\n",
              "      <th>Timestamp</th>\n",
              "    </tr>\n",
              "  </thead>\n",
              "  <tbody>\n",
              "    <tr>\n",
              "      <th>0</th>\n",
              "      <td>0</td>\n",
              "      <td>0</td>\n",
              "      <td>5</td>\n",
              "      <td>978300760</td>\n",
              "    </tr>\n",
              "    <tr>\n",
              "      <th>1</th>\n",
              "      <td>0</td>\n",
              "      <td>1</td>\n",
              "      <td>3</td>\n",
              "      <td>978302109</td>\n",
              "    </tr>\n",
              "    <tr>\n",
              "      <th>2</th>\n",
              "      <td>0</td>\n",
              "      <td>2</td>\n",
              "      <td>3</td>\n",
              "      <td>978301968</td>\n",
              "    </tr>\n",
              "    <tr>\n",
              "      <th>3</th>\n",
              "      <td>0</td>\n",
              "      <td>3</td>\n",
              "      <td>4</td>\n",
              "      <td>978300275</td>\n",
              "    </tr>\n",
              "    <tr>\n",
              "      <th>4</th>\n",
              "      <td>0</td>\n",
              "      <td>4</td>\n",
              "      <td>5</td>\n",
              "      <td>978824291</td>\n",
              "    </tr>\n",
              "  </tbody>\n",
              "</table>\n",
              "</div>\n",
              "    <div class=\"colab-df-buttons\">\n",
              "\n",
              "  <div class=\"colab-df-container\">\n",
              "    <button class=\"colab-df-convert\" onclick=\"convertToInteractive('df-cd05a0b8-f70f-433f-81f0-a58a65ec2825')\"\n",
              "            title=\"Convert this dataframe to an interactive table.\"\n",
              "            style=\"display:none;\">\n",
              "\n",
              "  <svg xmlns=\"http://www.w3.org/2000/svg\" height=\"24px\" viewBox=\"0 -960 960 960\">\n",
              "    <path d=\"M120-120v-720h720v720H120Zm60-500h600v-160H180v160Zm220 220h160v-160H400v160Zm0 220h160v-160H400v160ZM180-400h160v-160H180v160Zm440 0h160v-160H620v160ZM180-180h160v-160H180v160Zm440 0h160v-160H620v160Z\"/>\n",
              "  </svg>\n",
              "    </button>\n",
              "\n",
              "  <style>\n",
              "    .colab-df-container {\n",
              "      display:flex;\n",
              "      gap: 12px;\n",
              "    }\n",
              "\n",
              "    .colab-df-convert {\n",
              "      background-color: #E8F0FE;\n",
              "      border: none;\n",
              "      border-radius: 50%;\n",
              "      cursor: pointer;\n",
              "      display: none;\n",
              "      fill: #1967D2;\n",
              "      height: 32px;\n",
              "      padding: 0 0 0 0;\n",
              "      width: 32px;\n",
              "    }\n",
              "\n",
              "    .colab-df-convert:hover {\n",
              "      background-color: #E2EBFA;\n",
              "      box-shadow: 0px 1px 2px rgba(60, 64, 67, 0.3), 0px 1px 3px 1px rgba(60, 64, 67, 0.15);\n",
              "      fill: #174EA6;\n",
              "    }\n",
              "\n",
              "    .colab-df-buttons div {\n",
              "      margin-bottom: 4px;\n",
              "    }\n",
              "\n",
              "    [theme=dark] .colab-df-convert {\n",
              "      background-color: #3B4455;\n",
              "      fill: #D2E3FC;\n",
              "    }\n",
              "\n",
              "    [theme=dark] .colab-df-convert:hover {\n",
              "      background-color: #434B5C;\n",
              "      box-shadow: 0px 1px 3px 1px rgba(0, 0, 0, 0.15);\n",
              "      filter: drop-shadow(0px 1px 2px rgba(0, 0, 0, 0.3));\n",
              "      fill: #FFFFFF;\n",
              "    }\n",
              "  </style>\n",
              "\n",
              "    <script>\n",
              "      const buttonEl =\n",
              "        document.querySelector('#df-cd05a0b8-f70f-433f-81f0-a58a65ec2825 button.colab-df-convert');\n",
              "      buttonEl.style.display =\n",
              "        google.colab.kernel.accessAllowed ? 'block' : 'none';\n",
              "\n",
              "      async function convertToInteractive(key) {\n",
              "        const element = document.querySelector('#df-cd05a0b8-f70f-433f-81f0-a58a65ec2825');\n",
              "        const dataTable =\n",
              "          await google.colab.kernel.invokeFunction('convertToInteractive',\n",
              "                                                    [key], {});\n",
              "        if (!dataTable) return;\n",
              "\n",
              "        const docLinkHtml = 'Like what you see? Visit the ' +\n",
              "          '<a target=\"_blank\" href=https://colab.research.google.com/notebooks/data_table.ipynb>data table notebook</a>'\n",
              "          + ' to learn more about interactive tables.';\n",
              "        element.innerHTML = '';\n",
              "        dataTable['output_type'] = 'display_data';\n",
              "        await google.colab.output.renderOutput(dataTable, element);\n",
              "        const docLink = document.createElement('div');\n",
              "        docLink.innerHTML = docLinkHtml;\n",
              "        element.appendChild(docLink);\n",
              "      }\n",
              "    </script>\n",
              "  </div>\n",
              "\n",
              "\n",
              "<div id=\"df-c88e7df1-c589-4658-bb5c-eeb9e902b114\">\n",
              "  <button class=\"colab-df-quickchart\" onclick=\"quickchart('df-c88e7df1-c589-4658-bb5c-eeb9e902b114')\"\n",
              "            title=\"Suggest charts\"\n",
              "            style=\"display:none;\">\n",
              "\n",
              "<svg xmlns=\"http://www.w3.org/2000/svg\" height=\"24px\"viewBox=\"0 0 24 24\"\n",
              "     width=\"24px\">\n",
              "    <g>\n",
              "        <path d=\"M19 3H5c-1.1 0-2 .9-2 2v14c0 1.1.9 2 2 2h14c1.1 0 2-.9 2-2V5c0-1.1-.9-2-2-2zM9 17H7v-7h2v7zm4 0h-2V7h2v10zm4 0h-2v-4h2v4z\"/>\n",
              "    </g>\n",
              "</svg>\n",
              "  </button>\n",
              "\n",
              "<style>\n",
              "  .colab-df-quickchart {\n",
              "      --bg-color: #E8F0FE;\n",
              "      --fill-color: #1967D2;\n",
              "      --hover-bg-color: #E2EBFA;\n",
              "      --hover-fill-color: #174EA6;\n",
              "      --disabled-fill-color: #AAA;\n",
              "      --disabled-bg-color: #DDD;\n",
              "  }\n",
              "\n",
              "  [theme=dark] .colab-df-quickchart {\n",
              "      --bg-color: #3B4455;\n",
              "      --fill-color: #D2E3FC;\n",
              "      --hover-bg-color: #434B5C;\n",
              "      --hover-fill-color: #FFFFFF;\n",
              "      --disabled-bg-color: #3B4455;\n",
              "      --disabled-fill-color: #666;\n",
              "  }\n",
              "\n",
              "  .colab-df-quickchart {\n",
              "    background-color: var(--bg-color);\n",
              "    border: none;\n",
              "    border-radius: 50%;\n",
              "    cursor: pointer;\n",
              "    display: none;\n",
              "    fill: var(--fill-color);\n",
              "    height: 32px;\n",
              "    padding: 0;\n",
              "    width: 32px;\n",
              "  }\n",
              "\n",
              "  .colab-df-quickchart:hover {\n",
              "    background-color: var(--hover-bg-color);\n",
              "    box-shadow: 0 1px 2px rgba(60, 64, 67, 0.3), 0 1px 3px 1px rgba(60, 64, 67, 0.15);\n",
              "    fill: var(--button-hover-fill-color);\n",
              "  }\n",
              "\n",
              "  .colab-df-quickchart-complete:disabled,\n",
              "  .colab-df-quickchart-complete:disabled:hover {\n",
              "    background-color: var(--disabled-bg-color);\n",
              "    fill: var(--disabled-fill-color);\n",
              "    box-shadow: none;\n",
              "  }\n",
              "\n",
              "  .colab-df-spinner {\n",
              "    border: 2px solid var(--fill-color);\n",
              "    border-color: transparent;\n",
              "    border-bottom-color: var(--fill-color);\n",
              "    animation:\n",
              "      spin 1s steps(1) infinite;\n",
              "  }\n",
              "\n",
              "  @keyframes spin {\n",
              "    0% {\n",
              "      border-color: transparent;\n",
              "      border-bottom-color: var(--fill-color);\n",
              "      border-left-color: var(--fill-color);\n",
              "    }\n",
              "    20% {\n",
              "      border-color: transparent;\n",
              "      border-left-color: var(--fill-color);\n",
              "      border-top-color: var(--fill-color);\n",
              "    }\n",
              "    30% {\n",
              "      border-color: transparent;\n",
              "      border-left-color: var(--fill-color);\n",
              "      border-top-color: var(--fill-color);\n",
              "      border-right-color: var(--fill-color);\n",
              "    }\n",
              "    40% {\n",
              "      border-color: transparent;\n",
              "      border-right-color: var(--fill-color);\n",
              "      border-top-color: var(--fill-color);\n",
              "    }\n",
              "    60% {\n",
              "      border-color: transparent;\n",
              "      border-right-color: var(--fill-color);\n",
              "    }\n",
              "    80% {\n",
              "      border-color: transparent;\n",
              "      border-right-color: var(--fill-color);\n",
              "      border-bottom-color: var(--fill-color);\n",
              "    }\n",
              "    90% {\n",
              "      border-color: transparent;\n",
              "      border-bottom-color: var(--fill-color);\n",
              "    }\n",
              "  }\n",
              "</style>\n",
              "\n",
              "  <script>\n",
              "    async function quickchart(key) {\n",
              "      const quickchartButtonEl =\n",
              "        document.querySelector('#' + key + ' button');\n",
              "      quickchartButtonEl.disabled = true;  // To prevent multiple clicks.\n",
              "      quickchartButtonEl.classList.add('colab-df-spinner');\n",
              "      try {\n",
              "        const charts = await google.colab.kernel.invokeFunction(\n",
              "            'suggestCharts', [key], {});\n",
              "      } catch (error) {\n",
              "        console.error('Error during call to suggestCharts:', error);\n",
              "      }\n",
              "      quickchartButtonEl.classList.remove('colab-df-spinner');\n",
              "      quickchartButtonEl.classList.add('colab-df-quickchart-complete');\n",
              "    }\n",
              "    (() => {\n",
              "      let quickchartButtonEl =\n",
              "        document.querySelector('#df-c88e7df1-c589-4658-bb5c-eeb9e902b114 button');\n",
              "      quickchartButtonEl.style.display =\n",
              "        google.colab.kernel.accessAllowed ? 'block' : 'none';\n",
              "    })();\n",
              "  </script>\n",
              "</div>\n",
              "\n",
              "    </div>\n",
              "  </div>\n"
            ],
            "text/plain": [
              "   UserID  MovieID  Rating  Timestamp\n",
              "0       0        0       5  978300760\n",
              "1       0        1       3  978302109\n",
              "2       0        2       3  978301968\n",
              "3       0        3       4  978300275\n",
              "4       0        4       5  978824291"
            ]
          },
          "execution_count": 5,
          "metadata": {},
          "output_type": "execute_result"
        }
      ],
      "source": [
        "# First, generate dictionaries for mapping old id to new id for users and movies\n",
        "unique_MovieID = data_df['MovieID'].unique()\n",
        "unique_UserID = data_df['UserID'].unique()\n",
        "j = 0\n",
        "user_old2new_id_dict = dict()\n",
        "for u in unique_UserID:\n",
        "    user_old2new_id_dict[u] = j\n",
        "    j += 1\n",
        "j = 0\n",
        "movie_old2new_id_dict = dict()\n",
        "for i in unique_MovieID:\n",
        "    movie_old2new_id_dict[i] = j\n",
        "    j += 1\n",
        "\n",
        "# Then, use the generated dictionaries to reindex UserID and MovieID in the data_df\n",
        "for j in range(len(data_df)):\n",
        "    data_df.at[j, 'UserID'] = user_old2new_id_dict[data_df.at[j, 'UserID']]\n",
        "    data_df.at[j, 'MovieID'] = movie_old2new_id_dict[data_df.at[j, 'MovieID']]\n",
        "\n",
        "data_df.head(5)"
      ]
    },
    {
      "cell_type": "markdown",
      "metadata": {
        "id": "zX07eTIPs0ZA"
      },
      "source": [
        "Now, you have got a ready-to-use dataset. The next step is to split it **randomly** into training and testing sets so that you can build your recommendation model based on the training set and evaluate it on the testing set. Here you need to split the data_df into two parts: a DataFrame **train_df** containing 70% user-movie-rating samples in data_df, and a DataFrame **test_df** containing 30% samples. train_df and test_df should have no overlap. In the next cell, write your code and print the numbers of samples in the generated train_df and test_df at last.\n",
        "\n",
        "**Note that here we just have training and testing sets without using a validation set for the sake of simplicity. This is not a good paradigm in practice.**\n",
        "\n",
        "**Hint: you may need to use functions from numpy.random for generating random numbers.**"
      ]
    },
    {
      "cell_type": "code",
      "execution_count": 6,
      "metadata": {
        "colab": {
          "base_uri": "https://localhost:8080/"
        },
        "id": "r6HJTeKDs0ZA",
        "outputId": "419b51da-b1e8-4280-9a0a-0f357d420d19"
      },
      "outputs": [
        {
          "name": "stdout",
          "output_type": "stream",
          "text": [
            "num of train_df = 390073\n",
            "num of test_df = 167175\n"
          ]
        }
      ],
      "source": [
        "# generate train_df with 70% samples and test_df with 30% samples, and there should have no overlap between them.\n",
        "# Your Code Here...\n",
        "import numpy as np\n",
        "\n",
        "TRAIN_TEST_SPLIT_PERC = 0.70\n",
        "num_samples = len(data_df)\n",
        "train_size = int(num_samples * TRAIN_TEST_SPLIT_PERC)\n",
        "\n",
        "# Generate random indices for splitting the data\n",
        "random_indices = np.random.permutation(num_samples)\n",
        "\n",
        "# Split indices into training and testing indices\n",
        "train_indices = random_indices[:train_size]\n",
        "test_indices = random_indices[train_size:]\n",
        "\n",
        "# Split the DataFrame into training and testing sets\n",
        "train_df = data_df.iloc[train_indices]\n",
        "test_df = data_df.iloc[test_indices]\n",
        "\n",
        "# End of your code\n",
        "\n",
        "print('num of train_df = ' + str(len(train_df)))\n",
        "print('num of test_df = ' + str(len(test_df)))"
      ]
    },
    {
      "cell_type": "markdown",
      "metadata": {
        "id": "YoRhr4KVs0ZA"
      },
      "source": [
        "Last, we need to generate numpy array variables (i.e., matrix version of dataset) for both train_df and test_df for the ease of calculation in the next step. More specifically, we will generate two numpy array variables of size (#user by #movie) with each entry representing the user-movie rating. And if the user-movie rating is missing, then the corresponding entry is 0. The code is already provided, but you still need to run it and it is a good chance for you to check the correctness of your previous code by running the provided code.\n",
        "\n",
        "**Hint: Please make sure you have already installed the scipy library before running the code.**"
      ]
    },
    {
      "cell_type": "markdown",
      "metadata": {
        "id": "q0L2zGahCkQg"
      },
      "source": [
        "pip install scipy"
      ]
    },
    {
      "cell_type": "code",
      "execution_count": 7,
      "metadata": {
        "id": "ZCbRQqtbs0ZB"
      },
      "outputs": [],
      "source": [
        "from scipy.sparse import coo_matrix\n",
        "\n",
        "num_user = len(data_df['UserID'].unique())\n",
        "num_movie = len(data_df['MovieID'].unique())\n",
        "\n",
        "train_mat = coo_matrix((train_df['Rating'].values, (train_df['UserID'].values, train_df['MovieID'].values)),\n",
        "                       shape=(num_user, num_movie)).toarray().astype(float)\n",
        "test_mat = coo_matrix((test_df['Rating'].values, (test_df['UserID'].values, test_df['MovieID'].values)),\n",
        "                      shape=(num_user, num_movie)).toarray().astype(float)\n"
      ]
    },
    {
      "cell_type": "markdown",
      "metadata": {
        "id": "NMf4Af-ts0ZB"
      },
      "source": [
        "With the processed data, let's implement the matrix factorization (MF for short) model introduced in class. The MF model can be mathematically represented as:\n",
        "\n",
        "<center>$\\underset{\\mathbf{P},\\mathbf{Q}}{\\text{min}}\\,\\,L=\\sum_{(u,i)\\in\\mathcal{O}}(\\mathbf{P}_u\\cdot\\mathbf{Q}^\\top_i-r_{u,i})^2+\\lambda(\\lVert\\mathbf{P}\\rVert^2_{\\text{F}}+\\lVert\\mathbf{Q}\\rVert^2_{\\text{F}})$,</center>\n",
        "    \n",
        "where $\\mathbf{P}$ is the user latent factor matrix of size (#user, #latent); $\\mathbf{Q}$ is the movie latent factor matrix of size (#movie, #latent); $\\mathcal{O}$ is a user-movie pair set containing all user-movie pairs having ratings in train_mat; $r_{u,i}$ represents the rating for user u and movie i; $\\lambda(\\lVert\\mathbf{P}\\rVert^2_{\\text{F}}+\\lVert\\mathbf{Q}\\rVert^2_{\\text{F}})$ is the regularization term to overcome overfitting problem, $\\lambda$ is the regularization weight (a hyper-parameter manually set by developer, i.e., you), and $\\lVert\\mathbf{P}\\rVert^2_{\\text{F}}=\\sum_{x}\\sum_{y}(\\mathbf{P}_{x,y})^2$, $\\lVert\\mathbf{Q}\\rVert^2_{\\text{F}}=\\sum_{x}\\sum_{y}(\\mathbf{Q}_{x,y})^2$. Such an L function is called the **loss function** for the matrix factorization model. The goal of training an MF model is to find appropriate $\\mathbf{P}$ and $\\mathbf{Q}$ to minimize the loss L."
      ]
    },
    {
      "cell_type": "markdown",
      "metadata": {
        "id": "8WajgNVDs0ZB"
      },
      "source": [
        "To implement such an MF, here we will write a Python class for the model. There are three functions in this MF class: init, train, and predict.\n",
        "\n",
        "* The 'init' function (**already provided**) is to initialize the variables the MF class needs, which takes 5 inputs: train_mat, test_mat, latent, lr, and reg. 'train_mat' and 'test_mat' are the corresponfing training and testing matrices we have. 'latent' represents the latent dimension we set for the MF model. 'lr' represents the learning rate, i.e., the update step in each optimization iteration, default is 0.01. 'reg' represents the regularization weight, i.e., the $\\lambda$ in the MF formulation.\n",
        "\n",
        "* The 'train' function (**partially provided and need to complete**) is to train the MF model given the training data train_mat. There is only one input to this function: an int variable 'epoch' to indicate how many epochs for training the model. The main body of this function should be a loop for 'epoch' iterations. In each iteration, following the algorithm to update the MF model:\n",
        "\n",
        "        1. Randomly shuffle training user-movie pairs  (i.e., user-movie pairs having ratings in train_mat)\n",
        "        2. Have an inner loop to iterate each user-movie pair:\n",
        "                a. given a user-movie pair (u,i), update the user latent factor and movie latent factor by gradient decsent:    \n",
        "<center>$\\mathbf{P}^\\prime_u=\\mathbf{P}_u-\\gamma [2(\\mathbf{P}_u\\cdot\\mathbf{Q}_i^\\top-r_{u,i})\\cdot\\mathbf{Q}_i+2\\lambda\\mathbf{P}_u]$</center>    \n",
        "<center>$\\mathbf{Q}^\\prime_i=\\mathbf{Q}_i-\\gamma [2(\\mathbf{P}_u\\cdot\\mathbf{Q}_i^\\top-r_{u,i})\\cdot\\mathbf{P}_u+2\\lambda\\mathbf{Q}_i]$</center>    \n",
        "<center>where $\\mathbf{P}_u$ and $\\mathbf{Q}_i$ are row vectors of size (1, #latent), $\\gamma$ is learning rate (default is 0.01), $\\lambda$ is regularization weight.</center>\n",
        "        \n",
        "        3. After iterating over all user-movie pairs, we have finished the training for the current epoch. Now calculate and print out the value of the loss function L after this epoch, and the RMSE on test_mat by the current MF model. Then append them to lists to keep a record of them.\n",
        "The train function needs to return two lists: 'epoch_loss_list' recording the loss after each training epoch, and 'epoch_test_RMSE_list' recording the RMSE on test_mat after each training epoch. The calculation of RMSE is formulated as:\n",
        "<center>$RMSE=\\sqrt{\\frac{1}{|\\mathcal{O}_{test}|}\\sum_{(u,i)\\in\\mathcal{O}_{test}}(\\mathbf{P}_u\\cdot\\mathbf{Q}^\\top_i-r_{u,i})^2}$</center>\n",
        "<center>where $\\mathcal{O}_{test}$ is a user-movie pair set containing all user-movie pairs having ratings in test_mat, and $|\\mathcal{O}_{test}|$ represents the total number of user-movie pairs in test_mat.</center>\n",
        "\n",
        "* The 'predict' function (**already provided**) is to calculate the prediction_mat by the learned $\\mathbf{P}$ and $\\mathbf{Q}$.\n"
      ]
    },
    {
      "cell_type": "markdown",
      "metadata": {
        "id": "7NVY1c5ps0ZC"
      },
      "source": [
        "In the next cell, we provide the 'init' and 'predict' functions. You will need to fill in the 'train' function based on the description above.\n",
        "\n",
        "**NOTE: Make sure that $\\mathbf{P}^\\prime_u$ and $\\mathbf{Q}^\\prime_i$ are both calculated by original $\\mathbf{P}_u$ and $\\mathbf{Q}_i$ from the previous iteration.**\n",
        "\n",
        "**NOTE: use matrix calculation instead of an iterative method to calculate test RMSE: use code similar to**\n",
        "- test_rmse = (np.sum(((prediction_mat - self.test_mat) * self.test_indicator_mat) ** 2) / np.sum(self.test_indicator_mat)) ** 0.5\n",
        "\n",
        "**NOTE: you should not delete or modify any provided code, you only need to add your code between \"start of your code\" and \"end of your code\" comments.**"
      ]
    },
    {
      "cell_type": "code",
      "execution_count": 12,
      "metadata": {
        "id": "lPON3Clws0ZC"
      },
      "outputs": [],
      "source": [
        "class MF:\n",
        "    def __init__(self, train_mat, test_mat, latent=5, lr=0.01, reg=0.01):\n",
        "        self.train_mat = train_mat  # the training rating matrix of size (#user, #movie)\n",
        "        self.test_mat = test_mat  # the training rating matrix of size (#user, #movie)\n",
        "\n",
        "        self.latent = latent  # the latent dimension\n",
        "        self.lr = lr  # learning rate\n",
        "        self.reg = reg  # regularization weight, i.e., the lambda in the objective function\n",
        "\n",
        "        self.num_user, self.num_movie = train_mat.shape\n",
        "\n",
        "        self.sample_user, self.sample_movie = self.train_mat.nonzero()  # get the user-movie pairs having ratings in train_mat\n",
        "        self.num_sample = len(self.sample_user)  # the number of user-movie pairs having ratings in train_mat\n",
        "\n",
        "        self.train_indicator_mat = 1.0 * (train_mat > 0)  # binary matrix to indicate whether s user-movie pair has rating or not in train_mat\n",
        "        self.test_indicator_mat = 1.0 * (test_mat > 0)  # binary matrix to indicate whether s user-movie pair has rating or not in test_mat\n",
        "\n",
        "        self.P = np.random.random((self.num_user, self.latent))  # latent factors for users, size (#user, self.latent), randomly initialized\n",
        "        self.Q = np.random.random((self.num_movie, self.latent))  # latent factors for users, size (#movie, self.latent), randomly initialized\n",
        "\n",
        "    def train(self, epoch=20, verbose=False):\n",
        "        \"\"\"\n",
        "        Goal: Write your code to train your matrix factorization model for epoch iterations in this function\n",
        "        Input: epoch -- the number of training epoch\n",
        "        Output: epoch_loss_list -- a list recording the training loss for each epoch\n",
        "                epoch_test_RMSE_list -- a list recording the testing RMSE after each training epoch\n",
        "        \"\"\"\n",
        "        epoch_loss_list = []\n",
        "        epoch_test_RMSE_list = []\n",
        "        for ep in range(epoch):\n",
        "            \"\"\"\n",
        "            Write your code here to implement the training process for one epoch,\n",
        "            and at the end of each epoch, print out the epoch number, the training loss after this epoch,\n",
        "            and the test RMSE after this epoch\n",
        "            \"\"\"\n",
        "            # start of your code\n",
        "            permutation = np.random.permutation(self.num_sample)\n",
        "            shuffled_user_indices = self.sample_user[permutation]\n",
        "            shuffled_movie_indices = self.sample_movie[permutation]\n",
        "\n",
        "            # for loop start here\n",
        "            for f in range(self.num_sample):\n",
        "                usr = shuffled_user_indices[f]\n",
        "                mov = shuffled_movie_indices[f]\n",
        "\n",
        "                Ptemp = self.P[usr] - self.lr*(2*(np.dot (self.P[usr], self.Q[mov].T)- self.train_mat[usr][mov])*self.Q[mov] + 2*self.reg*self.P[usr])\n",
        "                Qtemp = self.Q[mov] - self.lr*(2*(np.dot (self.P[usr], self.Q[mov].T)- self.train_mat[usr][mov])*self.P[usr] + 2*self.reg*self.Q[mov])\n",
        "\n",
        "                self.P[usr] = Ptemp\n",
        "                self.Q[mov] = Qtemp\n",
        "            # for loops ends here\n",
        "\n",
        "            prediction_mat = self.predict()\n",
        "\n",
        "            # Calculating training loss with regularization\n",
        "            epoch_loss = np.sum((self.train_indicator_mat * (prediction_mat - self.train_mat)) ** 2)\n",
        "            epoch_loss += self.reg * (np.sum(self.P ** 2) + np.sum(self.Q ** 2))\n",
        "\n",
        "            test_rmse = np.sqrt((np.sum(((prediction_mat - self.test_mat) * self.test_indicator_mat) ** 2) / np.sum(self.test_indicator_mat)))\n",
        "\n",
        "\n",
        "            # End of your code for this function\n",
        "\n",
        "            epoch_loss_list.append(epoch_loss)\n",
        "            epoch_test_RMSE_list.append(test_rmse)\n",
        "            if verbose:\n",
        "                print('Epoch={0}, Training Loss={1}, Testing RMSE={2}'.format(ep + 1, epoch_loss, test_rmse))\n",
        "\n",
        "        return epoch_loss_list, epoch_test_RMSE_list\n",
        "\n",
        "\n",
        "    def predict(self):\n",
        "        prediction_mat = np.matmul(self.P, self.Q.T)\n",
        "        return prediction_mat"
      ]
    },
    {
      "cell_type": "markdown",
      "metadata": {
        "id": "JD1oRFQes0ZD"
      },
      "source": [
        "Now, let's train an MF model based on your implementation. The code is provided, you just need to excute the next cell. The expectations are:\n",
        "\n",
        "* first, the code can be successfully excuted without error;\n",
        "* second, the training loss and RMSE on **test_mat** of each training epoch should be printed out for all 20 epochs;\n",
        "* last, the best RMSE on **test_mat** should be <0.92.\n",
        "\n",
        "\n",
        "**Hint: the expected time used for training is around 10s to 60s per training epoch.**"
      ]
    },
    {
      "cell_type": "code",
      "execution_count": 9,
      "metadata": {
        "colab": {
          "base_uri": "https://localhost:8080/"
        },
        "id": "4y_Tpdr-s0ZD",
        "outputId": "e333981a-1daa-4fc0-f670-ec42f1619a6f"
      },
      "outputs": [
        {
          "name": "stdout",
          "output_type": "stream",
          "text": [
            "Epoch=1, Training Loss=338391.41619997664, Testing RMSE=0.9494872514068866\n",
            "Epoch=2, Training Loss=328196.18655650236, Testing RMSE=0.9414921378512974\n",
            "Epoch=3, Training Loss=320618.3275209748, Testing RMSE=0.9367844102157789\n",
            "Epoch=4, Training Loss=311586.36746142723, Testing RMSE=0.9300527096539217\n",
            "Epoch=5, Training Loss=303445.9674352124, Testing RMSE=0.9236060622876142\n",
            "Epoch=6, Training Loss=297357.93581892445, Testing RMSE=0.920605851245357\n",
            "Epoch=7, Training Loss=294472.2595463714, Testing RMSE=0.9206302115206293\n",
            "Epoch=8, Training Loss=289831.29383753496, Testing RMSE=0.9187783986140574\n",
            "Epoch=9, Training Loss=286321.14681186323, Testing RMSE=0.9172157100456723\n",
            "Epoch=10, Training Loss=283102.99018068396, Testing RMSE=0.9151205986457049\n",
            "Epoch=11, Training Loss=281371.1722468145, Testing RMSE=0.9164335061525688\n",
            "Epoch=12, Training Loss=278193.1797354336, Testing RMSE=0.9126365164240394\n",
            "Epoch=13, Training Loss=276009.7480341435, Testing RMSE=0.9110151442192127\n",
            "Epoch=14, Training Loss=275058.1056323372, Testing RMSE=0.9110321218360652\n",
            "Epoch=15, Training Loss=273861.2302675704, Testing RMSE=0.910306691181807\n",
            "Epoch=16, Training Loss=271613.7266746552, Testing RMSE=0.9085411173931831\n",
            "Epoch=17, Training Loss=271352.37011075567, Testing RMSE=0.909158452043297\n",
            "Epoch=18, Training Loss=270498.85406228754, Testing RMSE=0.9077734162407426\n",
            "Epoch=19, Training Loss=268779.84542676614, Testing RMSE=0.9075585824845633\n",
            "Epoch=20, Training Loss=268994.17028473713, Testing RMSE=0.9078441111365918\n"
          ]
        }
      ],
      "source": [
        "mf = MF(train_mat, test_mat, latent=5, lr=0.01, reg=0.001)\n",
        "epoch_loss_list, epoch_test_RMSE_list = mf.train(epoch=20)"
      ]
    },
    {
      "cell_type": "markdown",
      "metadata": {
        "id": "O5VqyAEOs0ZE"
      },
      "source": [
        "# Part 2: Tune Hyper-parameters in Matrix Factorization (30 points)\n",
        "\n",
        "In Part 1, we train an MF model with latent dimension set as 5, regularization weight as 0.001, training epoch as 20. However, it is not clear whether these are good choices or not. Hence, in this part, we will tune these hyper-parameters to train an effective model.\n",
        "\n",
        "A most straightforward but powerful method is to grid search each hyper-parameter and find the best one based on the RMSE on test_mat. In this part, we will do the grid search for train epoch, latent dimension, and regularization weight."
      ]
    },
    {
      "cell_type": "markdown",
      "metadata": {
        "id": "rF0ORJNrs0ZF"
      },
      "source": [
        "### Tune training epoch\n",
        "\n",
        "For training epoch, we only need to run the experiment of MF for one time, and record the test RMSE for each epoch and find the epoch that produces the best test RMSE. To visually show the change of test RMSE corresponding to the training epoch, we can plot the test RMSE for each epoch in a figure as shown in the next cell.\n",
        "\n",
        "**Note that you need to first install the matplotlib, then you can excute the next cell**"
      ]
    },
    {
      "cell_type": "code",
      "execution_count": 10,
      "metadata": {
        "colab": {
          "base_uri": "https://localhost:8080/",
          "height": 407
        },
        "id": "Idj-kHZDs0ZF",
        "outputId": "6d14a22f-1089-4c38-de06-984e82f1fe87"
      },
      "outputs": [
        {
          "data": {
            "image/png": "[encoded data removed]",
            "text/plain": [
              "<Figure size 800x400 with 1 Axes>"
            ]
          },
          "metadata": {},
          "output_type": "display_data"
        }
      ],
      "source": [
        "import matplotlib.pyplot as plt\n",
        "\n",
        "fig, ax = plt.subplots(nrows=1, ncols=1, figsize=(8, 4))\n",
        "ax.plot(np.arange(len(epoch_test_RMSE_list)) + 1, epoch_test_RMSE_list, marker='.', linewidth=1.5, markersize=8)\n",
        "ax.set_xticks(np.arange(len(epoch_test_RMSE_list)) + 1)\n",
        "ax.set_ylabel('test RMSE')\n",
        "ax.set_xlabel('epoch')\n",
        "ax.set_title('Tune training epoch')\n",
        "ax.grid(True)\n",
        "plt.tight_layout()\n",
        "plt.show()"
      ]
    },
    {
      "cell_type": "markdown",
      "metadata": {
        "id": "95MKe4Qss0ZG"
      },
      "source": [
        "### Question: Based on this plot, what is the best epoch for your MF model?"
      ]
    },
    {
      "cell_type": "markdown",
      "metadata": {
        "id": "RQgVFZc4s0ZG"
      },
      "source": [
        "#### Write your answer here\n",
        "\n",
        "best epoch : 19"
      ]
    },
    {
      "cell_type": "markdown",
      "metadata": {
        "id": "Sg8gVVbvs0ZG"
      },
      "source": [
        "### Tune latent dimension\n",
        "\n",
        "By this figure, you can find the best epoch for your MF model. Similarly, you can plot how the test RMSE changes when you set different latent dimensions. For this, you need to run the code to initialize and train the MF model for multiple times with different settings of 'latent'. Please run the MF model with 'latent' as {1,3,5,7,9}, and plot the corresponding test RMSE for these five different latent dimensions in the next cell.\n",
        "\n",
        "**Note that for these five runs of experiments, record the test RMSE after Ep training epochs -- Ep is the best epoch you find by the 'Tune training epoch' plot. And here, fix regularization weight as 0.001**.\n",
        "\n",
        "**Note that the expected output of the next cell is just the plot, you don't need to show the code and printing of the experiment with different 'latent' here.**"
      ]
    },
    {
      "cell_type": "code",
      "execution_count": 13,
      "metadata": {
        "colab": {
          "base_uri": "https://localhost:8080/",
          "height": 472
        },
        "id": "F8gGFs8Ws0ZG",
        "outputId": "91f7d719-8b66-4a4f-c002-be9168b77258"
      },
      "outputs": [
        {
          "data": {
            "image/png": "[encoded data removed]",
            "text/plain": [
              "<Figure size 640x480 with 1 Axes>"
            ]
          },
          "metadata": {},
          "output_type": "display_data"
        }
      ],
      "source": [
        "#Write your code here\n",
        "test_rmse = []\n",
        "\n",
        "for i in [1, 3, 5, 7, 9]:\n",
        "    mf = MF(train_mat, test_mat, latent=i, lr=0.01, reg=0.001)\n",
        "    epoch_loss_list, epoch_test_RMSE_list = mf.train(epoch=19)\n",
        "    test_rmse.append(epoch_test_RMSE_list[2])  # Test RMSE for the 3rd epoch\n",
        "\n",
        "# Plotting\n",
        "latent_values = [1, 3, 5, 7, 9]\n",
        "plt.plot(latent_values, test_rmse, marker='o')\n",
        "plt.title('Test RMSE vs. Latent Dimensions')\n",
        "plt.xlabel('Latent Dimensions')\n",
        "plt.ylabel('Test RMSE')\n",
        "plt.grid(True)\n",
        "plt.show()\n"
      ]
    },
    {
      "cell_type": "markdown",
      "metadata": {
        "id": "bl81VqAjs0ZH"
      },
      "source": [
        "### Question: Based on this plot, what is the best latent dimension for your MF model?"
      ]
    },
    {
      "cell_type": "markdown",
      "metadata": {
        "id": "_wLUQqBus0ZH"
      },
      "source": [
        "#### Write your answer here\n",
        "\n",
        "best latent : 3"
      ]
    },
    {
      "cell_type": "markdown",
      "metadata": {
        "id": "EuLMGMSJs0ZH"
      },
      "source": [
        "### Tune regularization weight\n",
        "\n",
        "Last, you can plot how the test RMSE changes when you set different regularization weight. Please run the MF model with 'reg' as {0.0001,0.0005,0.001,0.0015,0.002}, and plot corresponding test RMSE for these five different regularization weights in the next cell.\n",
        "\n",
        "**Note that for these five runs of experiments, record the test RMSE after Ep training epochs -- Ep is the best epoch you find by the 'Tune training epoch' plot. And here, fix latent dimension as the one you find the best by the previous part**\n",
        "\n",
        "**Note that the expected output of the next cell is just the plot, you don't need to show the code and printing of the experiment with different 'reg' here.**"
      ]
    },
    {
      "cell_type": "code",
      "execution_count": 14,
      "metadata": {
        "colab": {
          "base_uri": "https://localhost:8080/",
          "height": 472
        },
        "id": "IAAGGzwys0ZI",
        "outputId": "b664376d-fcb8-44fd-b829-32f5a36a5ed3"
      },
      "outputs": [
        {
          "data": {
            "image/png": "[encoded data removed]",
            "text/plain": [
              "<Figure size 640x480 with 1 Axes>"
            ]
          },
          "metadata": {},
          "output_type": "display_data"
        }
      ],
      "source": [
        "#Write your code here\n",
        "test_rmse = []\n",
        "\n",
        "for i in [0.0001, 0.0005, 0.001, 0.0015, 0.002]:\n",
        "    mf = MF(train_mat, test_mat, latent=3, lr=0.01, reg=i)\n",
        "    epoch_loss_list, epoch_test_RMSE_list = mf.train(epoch=19)\n",
        "    test_rmse.append(epoch_test_RMSE_list[-1])  # Test RMSE for the best epoch (Ep)\n",
        "\n",
        "# Plotting\n",
        "reg_weights = [0.0001, 0.0005, 0.001, 0.0015, 0.002]\n",
        "plt.plot(reg_weights, test_rmse, marker='o')\n",
        "plt.title('Test RMSE vs. Regularization Weight')\n",
        "plt.xlabel('Regularization Weight')\n",
        "plt.ylabel('Test RMSE')\n",
        "plt.grid(True)\n",
        "plt.show()\n",
        "\n"
      ]
    },
    {
      "cell_type": "markdown",
      "metadata": {
        "id": "JJ3KYQccs0ZJ"
      },
      "source": [
        "### Question: Based on this plot, what is the best regularization weight for your MF model?"
      ]
    },
    {
      "cell_type": "markdown",
      "metadata": {
        "id": "z5u44WEZs0ZJ"
      },
      "source": [
        "#### Write your answer here\n",
        "\n",
        "best regularization : 0.00150\n"
      ]
    }
  ],
  "metadata": {
    "accelerator": "GPU",
    "anaconda-cloud": {},
    "colab": {
      "gpuType": "T4",
      "provenance": []
    },
    "kernelspec": {
      "display_name": "Python 3",
      "name": "python3"
    },
    "language_info": {
      "codemirror_mode": {
        "name": "ipython",
        "version": 3
      },
      "file_extension": ".py",
      "mimetype": "text/x-python",
      "name": "python",
      "nbconvert_exporter": "python",
      "pygments_lexer": "ipython3",
      "version": "3.9.12"
    }
  },
  "nbformat": 4,
  "nbformat_minor": 0
}
